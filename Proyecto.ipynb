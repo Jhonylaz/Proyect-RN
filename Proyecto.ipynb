{
 "cells": [
  {
   "cell_type": "code",
   "execution_count": 1,
   "id": "330b5af1-0963-443e-b0e7-cdd67c90bfd3",
   "metadata": {},
   "outputs": [],
   "source": [
    "import numpy as np\n",
    "import pickle\n",
    "from sklearn.model_selection import train_test_split\n",
    "from sklearn.metrics import confusion_matrix\n",
    "import torch\n",
    "from torch.autograd import Variable\n",
    "import torch.nn as nn\n",
    "import torch.optim as optim\n",
    "import h5py\n",
    "import pandas as pd\n",
    "import os\n",
    "from ipywidgets import interact, interact_manual, interactive, fixed\n",
    "import matplotlib.pyplot as plt"
   ]
  },
  {
   "cell_type": "markdown",
   "id": "8fae7414-2f90-4e94-ab5c-05f463c5a662",
   "metadata": {
    "tags": []
   },
   "source": [
    "# Proyecto Final\n",
    "LAZCANO LAGOS JHONY BRANDON"
   ]
  },
  {
   "cell_type": "markdown",
   "id": "33dc71ae-482f-4554-a075-108fe3b1ab8f",
   "metadata": {},
   "source": [
    "El proyecto constara de entrenar una red neuronal que pueda clasificar las canciones  de acuerdo si son exitosas o no, para esto usaremos los datos que se encuentran en http://millionsongdataset.com/pages/getting-dataset/  "
   ]
  },
  {
   "cell_type": "markdown",
   "id": "a2106caf-d965-4260-ab9b-03f41066e1fc",
   "metadata": {},
   "source": [
    "Los datos contienen el nombre de la cancion,el año en que salio, el tiempo de duración,etc.\n",
    "Para entrenar nuestra red solo utilizaremos los siguiente:\n",
    "* name: nombre de la canción\n",
    "\n",
    "* duration: duracion de la canción\n",
    "\n",
    "* loudness: sonoridad general de la pista\n",
    "\n",
    "* tempo: el tiempo de la cancion medido en BPM\n",
    "\n",
    "* time_signature: tiempos por compas\n",
    "\n",
    "* end_f_fade_in: el tiempo en el que entra el fundido de entrada\n",
    "\n",
    "* start_of_fade_out: el tiempo en el que entra el fundido de salida\n",
    "\n",
    "* song_hotttnesss: popularidad de la cancion medida entre 0 y 1"
   ]
  },
  {
   "cell_type": "markdown",
   "id": "6f971ad1-7d7c-458c-8c3a-2b50ecd4a12a",
   "metadata": {
    "tags": []
   },
   "source": [
    "## Estraccion de los datos"
   ]
  },
  {
   "cell_type": "markdown",
   "id": "a8c73440-9d32-4172-ac3b-530eb36d2340",
   "metadata": {},
   "source": [
    "Extraeremos los datos que utilizaremos de los archivos y los guardaremos en datos_c"
   ]
  },
  {
   "cell_type": "code",
   "execution_count": 2,
   "id": "32111e28-cb9f-4bb0-979e-af34ad86aa47",
   "metadata": {},
   "outputs": [],
   "source": [
    "url=\"./MillionSongSubset\""
   ]
  },
  {
   "cell_type": "code",
   "execution_count": 3,
   "id": "1799dd90-14c4-4aa6-b8c4-e7aacd36b037",
   "metadata": {},
   "outputs": [],
   "source": [
    "datos_c=[]"
   ]
  },
  {
   "cell_type": "code",
   "execution_count": 4,
   "id": "a29f24d9-a0b4-4172-9a80-6dd588f4f563",
   "metadata": {},
   "outputs": [],
   "source": [
    "#obtencion de los datos requeridos y los guardamos en datos_c\n",
    "with os.scandir(url) as ficheros:\n",
    "    ficheros = [fichero.name for fichero in ficheros]   \n",
    "for f in ficheros:\n",
    "    url_s=url+\"/\"+f\n",
    "    with os.scandir(url_s) as ficheros_s:\n",
    "        ficheros_s=[fichero_s.name for fichero_s in ficheros_s]\n",
    "    for c in ficheros_s:\n",
    "        url_sub=url_s+\"/\"+c\n",
    "        with os.scandir(url_sub) as ficheros_sub:\n",
    "            ficheros_sub=[fichero_sub.name for fichero_sub in ficheros_sub]\n",
    "        for i in ficheros_sub:\n",
    "            url_sub_s=url_sub+\"/\"+i\n",
    "            with os.scandir(url_sub_s) as ficheros_sub_s:\n",
    "                ficheros_sub_s=[fichero_sub_s.name for fichero_sub_s in ficheros_sub_s]\n",
    "            for j in ficheros_sub_s:\n",
    "                cancion=[]\n",
    "                url_dato=url_sub_s+\"/\"+j\n",
    "                dato= h5py.File(url_dato, 'r')\n",
    "                cancion.append(dato[\"metadata\"][\"songs\"][0][-2])\n",
    "                cancion.append(dato[\"analysis\"][\"songs\"][0][3])\n",
    "                cancion.append(dato[\"analysis\"][\"songs\"][0][23])\n",
    "                cancion.append(dato[\"analysis\"][\"songs\"][0][27])\n",
    "                cancion.append(dato[\"analysis\"][\"songs\"][0][28])\n",
    "                cancion.append(dato[\"analysis\"][\"songs\"][0][4])\n",
    "                cancion.append(dato[\"analysis\"][\"songs\"][0][26])\n",
    "                cancion.append(dato[\"metadata\"][\"songs\"][0][16])\n",
    "                datos_c.append(cancion)"
   ]
  },
  {
   "cell_type": "markdown",
   "id": "dbefa7d5-02c1-4f05-837e-4ba8360bcea4",
   "metadata": {},
   "source": [
    "Veamos cuantos datos tenemos"
   ]
  },
  {
   "cell_type": "code",
   "execution_count": 16,
   "id": "5192329e-3ecd-46ad-9c98-05f22c131a6c",
   "metadata": {},
   "outputs": [
    {
     "data": {
      "text/plain": [
       "10000"
      ]
     },
     "execution_count": 16,
     "metadata": {},
     "output_type": "execute_result"
    }
   ],
   "source": [
    "len(datos_c)"
   ]
  },
  {
   "cell_type": "code",
   "execution_count": null,
   "id": "98c8073b-e921-4c78-9231-610cde8aa0bc",
   "metadata": {},
   "outputs": [],
   "source": [
    "Guardaremos nuestros datos en datos_c para usarlos posteriormente"
   ]
  },
  {
   "cell_type": "code",
   "execution_count": 6,
   "id": "67a90c6b-1882-4e65-9619-f965a33ac923",
   "metadata": {},
   "outputs": [],
   "source": [
    "with open(\"datos_c.pickle\", \"wb\") as f:\n",
    "    pickle.dump(datos_c, f)"
   ]
  },
  {
   "cell_type": "code",
   "execution_count": 148,
   "id": "3ab01796-cc24-4404-982d-44c1707d353a",
   "metadata": {},
   "outputs": [],
   "source": [
    "with open(\"datos_c.pickle\", \"rb\") as f:\n",
    "    datos = pickle.load(f)"
   ]
  },
  {
   "cell_type": "markdown",
   "id": "e3edc3eb-352d-499b-a21c-a6e5e9388e2a",
   "metadata": {},
   "source": [
    "Veamos los datos que tenemos"
   ]
  },
  {
   "cell_type": "code",
   "execution_count": 149,
   "id": "8a9cc88c-c23f-4924-875d-7b2af2dc1c24",
   "metadata": {},
   "outputs": [
    {
     "data": {
      "application/vnd.jupyter.widget-view+json": {
       "model_id": "3d9531e2d2ec4aeab088afb27637f078",
       "version_major": 2,
       "version_minor": 0
      },
      "text/plain": [
       "interactive(children=(IntSlider(value=5000, description='index', max=9999, min=1), Output()), _dom_classes=('w…"
      ]
     },
     "metadata": {},
     "output_type": "display_data"
    }
   ],
   "source": [
    "@interact(index = (1, len(datos) - 1))\n",
    "def muestradatos(index):\n",
    "    print(\"Cancion\",datos[index])"
   ]
  },
  {
   "cell_type": "markdown",
   "id": "a44331dc-8b85-4549-812c-545f24048c68",
   "metadata": {
    "tags": []
   },
   "source": [
    "## Preparacion de los datos"
   ]
  },
  {
   "cell_type": "markdown",
   "id": "af6ed1a1-81a7-4236-9276-b4eb311a3e3d",
   "metadata": {},
   "source": [
    "Si observamos los datos nos podremos dar cuenta que  tenemos algunos \"nan\" en song_hotttnesss por lo que quitaremos estos para poder trabajar de mejor manera, además para tener una mejor interpretacion en one-hot para la clasificaremos de la popularidad clasificaremos de la siguiente manera siguiente manera:\n",
    "* Si la popularidad esta entre 0 y 0.35 = 0 \"Poco exitoso\"\n",
    "* Si la popularidad esta entre 0.35 y 0.7 = 1  \"Medianamente exitoso\"\n",
    "* Si la popularidad esta entre  0.7 y 1= 2  \"Exitoso\""
   ]
  },
  {
   "cell_type": "code",
   "execution_count": 150,
   "id": "07789b60-94dd-4ae0-a048-94c7df06cb9d",
   "metadata": {},
   "outputs": [],
   "source": [
    "#cambiamos el valor de song_hotttnesss y cambiamos nuestra entrada de nombre a str\n",
    "nan=[]\n",
    "for i,j in enumerate(datos):\n",
    "    j[0]=str(j[0])\n",
    "    if 0<=j[7]<0.35:\n",
    "        j[7]=0\n",
    "    else:\n",
    "        if 0.35<=j[7]<0.7:\n",
    "            j[7]=1\n",
    "        else:\n",
    "            if 0.7<=j[7]<=1:\n",
    "                j[7]=2\n",
    "            else:\n",
    "                nan.append(i)"
   ]
  },
  {
   "cell_type": "code",
   "execution_count": 151,
   "id": "47b5b32b-2c90-46f8-a02d-ee6832c7499a",
   "metadata": {},
   "outputs": [],
   "source": [
    "#eliminamos los valores nan\n",
    "nan=list(reversed(nan))\n",
    "for i in nan:\n",
    "    datos.pop(i)"
   ]
  },
  {
   "cell_type": "code",
   "execution_count": 152,
   "id": "05b8b446-9f2c-48b6-9ed3-002f865657e6",
   "metadata": {},
   "outputs": [
    {
     "data": {
      "application/vnd.jupyter.widget-view+json": {
       "model_id": "b30b787da04a43faaf845c48d38f68c2",
       "version_major": 2,
       "version_minor": 0
      },
      "text/plain": [
       "interactive(children=(IntSlider(value=2824, description='index', max=5647, min=1), Output()), _dom_classes=('w…"
      ]
     },
     "metadata": {},
     "output_type": "display_data"
    }
   ],
   "source": [
    "@interact(index = (1, len(datos) - 1))\n",
    "def muestradatos(index):\n",
    "    print(\"Cancion\",datos[index])"
   ]
  },
  {
   "cell_type": "markdown",
   "id": "568e4b27-6b06-41de-a1d3-9cb65ebe7778",
   "metadata": {},
   "source": [
    "Como podemos ver si teniamos demasiados datos con nan"
   ]
  },
  {
   "cell_type": "markdown",
   "id": "1970279e-1cb5-426c-b26b-942bf9b7c5af",
   "metadata": {},
   "source": [
    "Ahora separaremos nuestros datos en el conjunto de entrenamiento y prueba"
   ]
  },
  {
   "cell_type": "code",
   "execution_count": 153,
   "id": "f4b0db53-0625-45ea-8ac6-d6a0e5c7c2e2",
   "metadata": {},
   "outputs": [],
   "source": [
    "datos_train,datos_test= train_test_split(datos, test_size=0.30, random_state=1)"
   ]
  },
  {
   "cell_type": "markdown",
   "id": "852a463d-98a5-4e8a-8ca4-41b0ea852937",
   "metadata": {},
   "source": [
    "Ahora dividiremos los datos de las entradas y salidas de la red"
   ]
  },
  {
   "cell_type": "code",
   "execution_count": 154,
   "id": "ba10aaeb-c80b-4b82-929e-d59712388316",
   "metadata": {},
   "outputs": [],
   "source": [
    "#convertimos nuestros datos en array para hacerlo más facil\n",
    "datos_train=np.array(datos_train)\n",
    "datos_test=np.array(datos_test)\n",
    "x_train=datos_train[:,1:7]\n",
    "Y_train=datos_train[:,7:]\n",
    "x_test=datos_test[:,1:7]\n",
    "Y_test=datos_test[:,7:]"
   ]
  },
  {
   "cell_type": "markdown",
   "id": "3212372f-5659-4e16-b1bc-be0ba7c1076f",
   "metadata": {},
   "source": [
    "x_train y x_test son las entradas que va a tener nuestra red.\n",
    "Como haremos una clasificación entonces usaremos entropia cruzada por lo mismo necesitamos la siguiente funcion."
   ]
  },
  {
   "cell_type": "code",
   "execution_count": 155,
   "id": "116e4886-cc9e-472c-a1b1-696c6150cd76",
   "metadata": {},
   "outputs": [],
   "source": [
    "#Esta funcion nos ayudara a tener una matriz en donde la columna distinta de cero es\n",
    "#nuestra etiqueta para poder usar entropia cruzada\n",
    "def makeY(etiquetasEntrenamiento):\n",
    "    Y=[]\n",
    "    for i in range(len(etiquetasEntrenamiento)):\n",
    "        y=np.zeros(3)\n",
    "        y[int(etiquetasEntrenamiento[i])]=1\n",
    "        Y.append(y)\n",
    "    Y=np.array(Y)    \n",
    "    return Y    "
   ]
  },
  {
   "cell_type": "code",
   "execution_count": 156,
   "id": "e57f3e0f-cfcd-4e53-b359-88348e606bc9",
   "metadata": {},
   "outputs": [
    {
     "data": {
      "text/plain": [
       "array([[1., 0., 0.],\n",
       "       [1., 0., 0.],\n",
       "       [1., 0., 0.],\n",
       "       ...,\n",
       "       [0., 1., 0.],\n",
       "       [0., 1., 0.],\n",
       "       [0., 1., 0.]])"
      ]
     },
     "execution_count": 156,
     "metadata": {},
     "output_type": "execute_result"
    }
   ],
   "source": [
    "y_train=makeY(Y_train)\n",
    "y_test=makeY(Y_test)\n",
    "y_train"
   ]
  },
  {
   "cell_type": "code",
   "execution_count": 157,
   "id": "e9686832-f369-4de8-9a66-4ac04050b249",
   "metadata": {},
   "outputs": [
    {
     "data": {
      "text/plain": [
       "array([['230.53016', '-11.485', '97.004', '4', '0.368', '220.479'],\n",
       "       ['230.37342', '-4.958', '102.949', '4', '0.218', '216.602'],\n",
       "       ['423.07873', '-13.818', '135.599', '3', '4.725', '381.463'],\n",
       "       ...,\n",
       "       ['325.14567', '-8.677', '89.638', '4', '0.535', '307.217'],\n",
       "       ['174.81098', '-3.235', '86.62', '4', '0.154', '169.558'],\n",
       "       ['184.78975', '-10.939', '149.981', '7', '0.386', '180.814']],\n",
       "      dtype='<U177')"
      ]
     },
     "execution_count": 157,
     "metadata": {},
     "output_type": "execute_result"
    }
   ],
   "source": [
    "x_train"
   ]
  },
  {
   "cell_type": "markdown",
   "id": "a90f5b5d-4885-4369-b63b-db6a8795886f",
   "metadata": {},
   "source": [
    "Veamos que nuestrosdatos son de tipo str por lo que los convertiremos a tipo float para poder meterlos a la red."
   ]
  },
  {
   "cell_type": "code",
   "execution_count": 158,
   "id": "624c6774-8570-424a-b9f5-656c22db6b40",
   "metadata": {},
   "outputs": [],
   "source": [
    "x_train=x_train.astype(float)\n",
    "x_test=x_test.astype(float)\n",
    "Y_train=Y_train.astype(int)\n",
    "Y_test=Y_test.astype(int)"
   ]
  },
  {
   "cell_type": "code",
   "execution_count": 159,
   "id": "35302771-fee6-42b4-bd53-99802dd9fe54",
   "metadata": {},
   "outputs": [
    {
     "data": {
      "text/plain": [
       "array([[ 2.3053016e+02, -1.1485000e+01,  9.7004000e+01,  4.0000000e+00,\n",
       "         3.6800000e-01,  2.2047900e+02],\n",
       "       [ 2.3037342e+02, -4.9580000e+00,  1.0294900e+02,  4.0000000e+00,\n",
       "         2.1800000e-01,  2.1660200e+02],\n",
       "       [ 4.2307873e+02, -1.3818000e+01,  1.3559900e+02,  3.0000000e+00,\n",
       "         4.7250000e+00,  3.8146300e+02],\n",
       "       ...,\n",
       "       [ 3.2514567e+02, -8.6770000e+00,  8.9638000e+01,  4.0000000e+00,\n",
       "         5.3500000e-01,  3.0721700e+02],\n",
       "       [ 1.7481098e+02, -3.2350000e+00,  8.6620000e+01,  4.0000000e+00,\n",
       "         1.5400000e-01,  1.6955800e+02],\n",
       "       [ 1.8478975e+02, -1.0939000e+01,  1.4998100e+02,  7.0000000e+00,\n",
       "         3.8600000e-01,  1.8081400e+02]])"
      ]
     },
     "execution_count": 159,
     "metadata": {},
     "output_type": "execute_result"
    }
   ],
   "source": [
    "x_train"
   ]
  },
  {
   "cell_type": "markdown",
   "id": "430649be-259c-4d45-bdb5-392463cfaddc",
   "metadata": {},
   "source": [
    "Como podemos ver nuestros datos ya son del tipo float por lo que ya estan listos para ingresarse a la red"
   ]
  },
  {
   "cell_type": "markdown",
   "id": "78c9b311-d2dd-4273-a11b-c300b4cb0346",
   "metadata": {},
   "source": [
    "## Definicion de la red"
   ]
  },
  {
   "cell_type": "markdown",
   "id": "089f4541-b835-47b4-8ab7-efc02d16fd9d",
   "metadata": {},
   "source": [
    "A continuacion definieremos la red que usaremos para clasificar los datos"
   ]
  },
  {
   "cell_type": "markdown",
   "id": "9a0d8ec5-a218-4cb1-b022-0da007982eb5",
   "metadata": {},
   "source": [
    "Usaremos una red con una sola capa oculta y con usando la sigmoide como funcion de activacion además se normalizaran los datos para hacer el entrenamiento más rapido.\n",
    "\n",
    "Como es un problema de clasificacion entonces usaremos entropia cruzada como función de error.\n",
    "\n",
    "Como algoritmo de optimizacion usaremos SDG o ADAM dependiendo de cual se comporta mejor.\n",
    "Por ultimo definiremos una matriz de confusion"
   ]
  },
  {
   "cell_type": "code",
   "execution_count": 160,
   "id": "ad280d66-8f8b-4082-be9a-1d96742dcfb6",
   "metadata": {},
   "outputs": [],
   "source": [
    "class Music(nn.Module):\n",
    "    def __init__(self,input_size,hidden,output_size):\n",
    "        super(Music,self).__init__()\n",
    "        #Definimos nuestras capas que vamos a usar y nuestra funcion de activacion\n",
    "        self.W1=nn.Linear(input_size,hidden)\n",
    "        self.Log=nn.Sigmoid()\n",
    "        self.relu=nn.ReLU()\n",
    "        self.W2=nn.Linear(hidden,output_size)\n",
    "        self.norm=nn.BatchNorm1d(6)\n",
    "        \n",
    "    def forward(self,X):\n",
    "        #transformamos nuestra entrada a un tensor float32 \n",
    "        X=torch.from_numpy(X).to(torch.float32)\n",
    "        if len(X)>8: \n",
    "            X=self.norm(X)\n",
    "        X=self.W1(X)\n",
    "        X=self.Log(X)\n",
    "        X=self.W2(X)\n",
    "        X=self.Log(X)\n",
    "        self.salida=X\n",
    "        return X\n",
    "    def back_propagate(self,X,Y):\n",
    "       #transformamos nuestra salida a un tensor float32 \n",
    "        Y=torch.from_numpy(Y).to(torch.float32)\n",
    "        #como es un problema de clasificacion entonces usaremos entropia cruzada\n",
    "        Entropia=torch.nn.CrossEntropyLoss()\n",
    "        error=Entropia(X,Y)\n",
    "        self.error=error\n",
    "    def train(self,train_X,train_Y,optimizer,ciclos=200,lr=0.01):\n",
    "        #Definiremos dos algoritmos, decenso por el gradiente y adam y veremos cual se comporta mejor\n",
    "        E=[]\n",
    "        for i in range(ciclos):\n",
    "            if optimizer==0:\n",
    "                algoritmo=optim.SGD(RedMusic.parameters(), lr,momentum=0.9)\n",
    "            if optimizer==1:\n",
    "                algoritmo=optim.Adam(RedMusic.parameters(), lr)\n",
    "            self.forward(train_X)\n",
    "            self.back_propagate(self.salida,train_Y)\n",
    "            algoritmo.zero_grad()\n",
    "            self.error.backward()\n",
    "            algoritmo.step()\n",
    "            E.append(self.error.item())\n",
    "        self.errores=E\n",
    "        #graficamos el error\n",
    "        x = np.arange(ciclos)\n",
    "        plt.title(\"Error\")\n",
    "        plt.xlabel(\"ciclo\")\n",
    "        plt.scatter(x, self.errores)\n",
    "        return self.error.item()\n",
    "    def confusion(self,test_X,test_Y):\n",
    "        #definimos nuestra matriz de confuncion\n",
    "        salida=RedMusic(test_X)\n",
    "        _,prediccion=torch.max(salida,0)\n",
    "        salida[salida<_]=0\n",
    "        salida[prediccion]=1\n",
    "        salida=salida.detach().numpy()\n",
    "        numElemems = test_Y.shape[0] * test_Y.shape[1]\n",
    "        prediccion = salida.astype(bool)\n",
    "        etiquetas = test_Y.astype(bool)\n",
    "    \n",
    "        matriz = np.zeros((2,2))\n",
    "        TP = np.sum(np.logical_and(prediccion, etiquetas))\n",
    "        matriz[0][0] = TP\n",
    "    \n",
    "        TN = np.logical_and(np.logical_not(prediccion), np.logical_not(etiquetas))\n",
    "        matriz[1][1] = np.sum(TN)\n",
    "    \n",
    "        FP = np.logical_and(np.logical_not(etiquetas), prediccion)\n",
    "        matriz[1][0] = np.sum(FP)\n",
    "    \n",
    "        FN = np.logical_and(etiquetas, np.logical_not(prediccion))\n",
    "        matriz[0][1] = np.sum(FN)\n",
    "    \n",
    "        return matriz\n",
    "        "
   ]
  },
  {
   "cell_type": "markdown",
   "id": "a9f5815e-a271-439c-b525-8c91ca1c5eb7",
   "metadata": {},
   "source": [
    "Definimos el nombre de nuestras etiquetas"
   ]
  },
  {
   "cell_type": "code",
   "execution_count": 171,
   "id": "e2fb4c09-7f74-4e44-94e3-edbd79b193a4",
   "metadata": {},
   "outputs": [],
   "source": [
    "clases=(\"poco exitosa\",\"posiblemente exitosa\",\"exitosa\")\n"
   ]
  },
  {
   "cell_type": "markdown",
   "id": "3025d300-fdd3-4d4a-afe7-45d6044867fc",
   "metadata": {},
   "source": [
    "Despues de hacer experimentos con diferentes numeros de neuronas ocultas llegamos a la conclusion que el mejor numero de neuronas es 22, como es un problema de clasificacion no necesitamos una red tan compleja por lo que no se vio necesario agregar otra capa oculta."
   ]
  },
  {
   "cell_type": "markdown",
   "id": "38591865-cdc6-4192-a762-4632c22c6978",
   "metadata": {},
   "source": [
    "## Entrenamiento"
   ]
  },
  {
   "cell_type": "markdown",
   "id": "502d81c9-4069-4ac0-b6a1-057ee5346364",
   "metadata": {},
   "source": [
    "### Entrenamiento con SDG"
   ]
  },
  {
   "cell_type": "code",
   "execution_count": 161,
   "id": "7bfe25c4-ee79-43b9-a4fc-ed3159816480",
   "metadata": {},
   "outputs": [],
   "source": [
    "#Veamos como se comporta SDG\n",
    "RedMusic=Music(6,22,3)"
   ]
  },
  {
   "cell_type": "code",
   "execution_count": 162,
   "id": "0dec0e63-ccc3-4ee5-b658-4b5e0f810da9",
   "metadata": {},
   "outputs": [
    {
     "data": {
      "text/plain": [
       "1.0807974338531494"
      ]
     },
     "execution_count": 162,
     "metadata": {},
     "output_type": "execute_result"
    },
    {
     "data": {
      "image/png": "[encoded data removed]",
      "text/plain": [
       "<Figure size 640x480 with 1 Axes>"
      ]
     },
     "metadata": {},
     "output_type": "display_data"
    }
   ],
   "source": [
    "RedMusic.train(x_train,y_train,optimizer=0,ciclos=1000,lr=0.001)"
   ]
  },
  {
   "cell_type": "markdown",
   "id": "af60907d-0677-4365-9c50-847731b298f6",
   "metadata": {},
   "source": [
    "### Entrenamiento con ADAM"
   ]
  },
  {
   "cell_type": "code",
   "execution_count": 163,
   "id": "765057ae-1bbf-4400-9e7e-85a1a2d2e0c0",
   "metadata": {},
   "outputs": [],
   "source": [
    "#Veamos como se comporta ADAM\n",
    "RedMusic=Music(6,22,3)"
   ]
  },
  {
   "cell_type": "code",
   "execution_count": 164,
   "id": "33785660-9564-4400-88ac-73524a6aab8c",
   "metadata": {},
   "outputs": [
    {
     "data": {
      "text/plain": [
       "0.9209741353988647"
      ]
     },
     "execution_count": 164,
     "metadata": {},
     "output_type": "execute_result"
    },
    {
     "data": {
      "image/png": "[encoded data removed]",
      "text/plain": [
       "<Figure size 640x480 with 1 Axes>"
      ]
     },
     "metadata": {},
     "output_type": "display_data"
    }
   ],
   "source": [
    "RedMusic.train(x_train,y_train,optimizer=1,ciclos=1000,lr=0.001)"
   ]
  },
  {
   "cell_type": "markdown",
   "id": "023f145e-fe20-4cb8-b764-7af1ec334ee6",
   "metadata": {},
   "source": [
    "Como podemos ver  se comporta mejor el algoritmo ADAM por lo que usaremos este"
   ]
  },
  {
   "cell_type": "markdown",
   "id": "4b752981-5583-4f33-9597-01bc4b717034",
   "metadata": {},
   "source": [
    "## Mejorando el entrenamiento"
   ]
  },
  {
   "cell_type": "markdown",
   "id": "94ad24f2-5120-43a2-a647-4d46e0439afe",
   "metadata": {},
   "source": [
    "Cambiaremos el valor de lr para reducir el error"
   ]
  },
  {
   "cell_type": "markdown",
   "id": "fb0e8f75-1877-489c-a387-1065fcb5b93a",
   "metadata": {},
   "source": [
    "Entrenaremos 3000 ciclos más con lr=0.001"
   ]
  },
  {
   "cell_type": "code",
   "execution_count": 165,
   "id": "10871b1c-082e-4697-93be-5457168e4856",
   "metadata": {},
   "outputs": [
    {
     "data": {
      "text/plain": [
       "0.9081804752349854"
      ]
     },
     "execution_count": 165,
     "metadata": {},
     "output_type": "execute_result"
    },
    {
     "data": {
      "image/png": "[encoded data removed]",
      "text/plain": [
       "<Figure size 640x480 with 1 Axes>"
      ]
     },
     "metadata": {},
     "output_type": "display_data"
    }
   ],
   "source": [
    "RedMusic.train(x_train,y_train,optimizer=1,ciclos=3000,lr=0.001)"
   ]
  },
  {
   "cell_type": "markdown",
   "id": "7744d76e-b3fa-4d26-bbd3-16e63f94a593",
   "metadata": {},
   "source": [
    "Entrenaremos 6000 ciclos con lr=0.01"
   ]
  },
  {
   "cell_type": "code",
   "execution_count": 166,
   "id": "267dc1c4-60dd-48b9-8bd0-de9bdcd91463",
   "metadata": {},
   "outputs": [
    {
     "data": {
      "text/plain": [
       "0.9015825390815735"
      ]
     },
     "execution_count": 166,
     "metadata": {},
     "output_type": "execute_result"
    },
    {
     "data": {
      "image/png": "[encoded data removed]",
      "text/plain": [
       "<Figure size 640x480 with 1 Axes>"
      ]
     },
     "metadata": {},
     "output_type": "display_data"
    }
   ],
   "source": [
    "RedMusic.train(x_train,y_train,optimizer=1,ciclos=3000,lr=0.01)"
   ]
  },
  {
   "cell_type": "markdown",
   "id": "4141a30b-f55d-47ef-b01d-3aed04a644a8",
   "metadata": {},
   "source": [
    "Entrenaremos otros 3000 ciclos para lr=0.1"
   ]
  },
  {
   "cell_type": "code",
   "execution_count": 167,
   "id": "ae1d16c6-cc6f-48c9-ac96-4fa23bb10cf3",
   "metadata": {},
   "outputs": [
    {
     "data": {
      "text/plain": [
       "0.890342652797699"
      ]
     },
     "execution_count": 167,
     "metadata": {},
     "output_type": "execute_result"
    },
    {
     "data": {
      "image/png": "[encoded data removed]",
      "text/plain": [
       "<Figure size 640x480 with 1 Axes>"
      ]
     },
     "metadata": {},
     "output_type": "display_data"
    }
   ],
   "source": [
    "RedMusic.train(x_train,y_train,optimizer=1,ciclos=3000,lr=0.001)"
   ]
  },
  {
   "cell_type": "code",
   "execution_count": 176,
   "id": "114ce38c-b01a-4fa0-9af2-5b36dd01038e",
   "metadata": {},
   "outputs": [],
   "source": [
    "#Gurdamos los datos de nuestra red entrenada\n",
    "PATH = './Music.pth'\n",
    "#torch.save(RedMusic.state_dict(), PATH)"
   ]
  },
  {
   "cell_type": "markdown",
   "id": "eb0e4214-028b-4f81-8a6e-d84f7f69f728",
   "metadata": {},
   "source": [
    "## Resultados"
   ]
  },
  {
   "cell_type": "markdown",
   "id": "06c2d716-27e4-4cc3-96ad-4c57c9edbf05",
   "metadata": {},
   "source": [
    "### Datos de entrenamiento"
   ]
  },
  {
   "cell_type": "markdown",
   "id": "a02775b2-e63e-4dca-9833-246243d829b0",
   "metadata": {},
   "source": [
    "Veamos que nos dice la matriz de confusion"
   ]
  },
  {
   "cell_type": "code",
   "execution_count": 178,
   "id": "3e74a9df-94e2-49bf-b89a-6a37e477bd1f",
   "metadata": {},
   "outputs": [
    {
     "data": {
      "text/plain": [
       "<All keys matched successfully>"
      ]
     },
     "execution_count": 178,
     "metadata": {},
     "output_type": "execute_result"
    }
   ],
   "source": [
    "RedMusic=Music(6,22,3)\n",
    "RedMusic.load_state_dict(torch.load(PATH))"
   ]
  },
  {
   "cell_type": "code",
   "execution_count": 179,
   "id": "182897a2-34de-4744-ab7f-f17755b2ef44",
   "metadata": {},
   "outputs": [],
   "source": [
    "#Definimos nuestra matriz de confusion\n",
    "def matrizdeconfusion(red,x_train,y_train):\n",
    "    #Obtenemos la matriz de confusion de cada etiqueta\n",
    "    for j in range(3):\n",
    "        predicciones=[]\n",
    "        etiquetas=[]\n",
    "        for i in range(len(y_train)):\n",
    "            etiqueta=y_train[i]\n",
    "            salidas=red(x_train[i])\n",
    "            _, prediccion=torch.max(salidas,0)\n",
    "            prediccion=int(prediccion)\n",
    "            #Pasamos por cada elemento de y_test y agregamos un 1 a etiquetas si es la etiqueta que necesitamos y 0 en otro caso, de mismo modo para predicciones \n",
    "            if etiqueta[0]==j:\n",
    "                etiquetas.append(1)\n",
    "            else:\n",
    "                etiquetas.append(0)\n",
    "            if prediccion==j:\n",
    "                predicciones.append(1)    \n",
    "            else:\n",
    "                predicciones.append(0)\n",
    "        #Obtenemos nuestra matriz de forma tradicional            \n",
    "        prediccion =np.array(predicciones).astype(bool)\n",
    "        etiquetas = np.array(etiquetas).astype(bool)\n",
    "    \n",
    "        matriz = np.zeros((2,2))\n",
    "        TP = np.sum(np.logical_and(prediccion, etiquetas))\n",
    "        matriz[0][0] = TP\n",
    "    \n",
    "        TN = np.logical_and(np.logical_not(prediccion), np.logical_not(etiquetas))\n",
    "        matriz[1][1] = np.sum(TN)\n",
    "    \n",
    "        FP = np.logical_and(np.logical_not(etiquetas), prediccion)\n",
    "        matriz[1][0] = np.sum(FP)\n",
    "    \n",
    "        FN = np.logical_and(etiquetas, np.logical_not(prediccion))\n",
    "        matriz[0][1] = np.sum(FN)\n",
    "        print(\"Matriz\",clases[j])\n",
    "        print( matriz)\n",
    "                  "
   ]
  },
  {
   "cell_type": "code",
   "execution_count": 180,
   "id": "dc5d5ba3-aff5-4638-9da1-e31f7e9af764",
   "metadata": {},
   "outputs": [
    {
     "data": {
      "text/plain": [
       "array([[2181., 1772.],\n",
       "       [1852., 6054.]])"
      ]
     },
     "execution_count": 180,
     "metadata": {},
     "output_type": "execute_result"
    }
   ],
   "source": [
    "RedMusic.confusion(x_train,y_train)"
   ]
  },
  {
   "cell_type": "markdown",
   "id": "d7abf71e-3adc-4bf4-81d1-09ad461d9701",
   "metadata": {},
   "source": [
    "Ahora veremos que pasa con la matriz de confusion de cada etiqueta"
   ]
  },
  {
   "cell_type": "code",
   "execution_count": 181,
   "id": "4ea4878c-278d-4150-95f5-0ff2f363389f",
   "metadata": {},
   "outputs": [
    {
     "name": "stdout",
     "output_type": "stream",
     "text": [
      "Matriz poco exitosa\n",
      "[[ 575. 1378.]\n",
      " [ 592. 1408.]]\n",
      "Matriz posiblemente exitosa\n",
      "[[1219.  523.]\n",
      " [1567.  644.]]\n",
      "Matriz exitosa\n",
      "[[   0.  258.]\n",
      " [   0. 3695.]]\n"
     ]
    }
   ],
   "source": [
    "matrizdeconfusion(RedMusic,x_train,Y_train)"
   ]
  },
  {
   "cell_type": "markdown",
   "id": "a60e4346-6ea0-4c0a-899b-4bac94c895cc",
   "metadata": {},
   "source": [
    "Veamos la etiqueta y prediccion de cada elemento."
   ]
  },
  {
   "cell_type": "code",
   "execution_count": 182,
   "id": "e462f4eb-7b3f-42ed-ac96-32f031550a70",
   "metadata": {},
   "outputs": [
    {
     "data": {
      "application/vnd.jupyter.widget-view+json": {
       "model_id": "871a659eb3d24b5d8fc4cb01a9c54de7",
       "version_major": 2,
       "version_minor": 0
      },
      "text/plain": [
       "interactive(children=(IntSlider(value=1976, description='index', max=3952, min=1), Output()), _dom_classes=('w…"
      ]
     },
     "metadata": {},
     "output_type": "display_data"
    }
   ],
   "source": [
    "@interact(index = (1, len(x_train) - 1))\n",
    "def muestrared(index):\n",
    "    salida=RedMusic(x_train[index])\n",
    "    _,prediccion=torch.max(salida,0)\n",
    "    print(\"Prediccion:\", clases[prediccion])\n",
    "    print(\"Etiqueta:\", clases[Y_train[index][0]])"
   ]
  },
  {
   "cell_type": "markdown",
   "id": "69e119b1-d30e-44e5-bbd6-d1c83e36cf72",
   "metadata": {},
   "source": [
    "### Datos de prueba "
   ]
  },
  {
   "cell_type": "markdown",
   "id": "a99cebef-282d-414b-b0b1-cab2e9fcedca",
   "metadata": {},
   "source": [
    "Matriz de datos de prueba"
   ]
  },
  {
   "cell_type": "code",
   "execution_count": 183,
   "id": "e1d61e46-7e10-48ea-9e14-e521dab237e7",
   "metadata": {},
   "outputs": [
    {
     "data": {
      "text/plain": [
       "array([[ 924.,  771.],\n",
       "       [ 827., 2563.]])"
      ]
     },
     "execution_count": 183,
     "metadata": {},
     "output_type": "execute_result"
    }
   ],
   "source": [
    "RedMusic.confusion(x_test,y_test)"
   ]
  },
  {
   "cell_type": "markdown",
   "id": "b96ff64d-68b1-4a89-a6de-fc720c4e2994",
   "metadata": {},
   "source": [
    "Ahora veremos que pasa con la matriz de confusion de cada etiqueta"
   ]
  },
  {
   "cell_type": "code",
   "execution_count": 184,
   "id": "9715b66f-5c09-410e-b5df-6994b2cf84ab",
   "metadata": {},
   "outputs": [
    {
     "name": "stdout",
     "output_type": "stream",
     "text": [
      "Matriz poco exitosa\n",
      "[[239. 574.]\n",
      " [265. 617.]]\n",
      "Matriz posiblemente exitosa\n",
      "[[540. 238.]\n",
      " [651. 266.]]\n",
      "Matriz exitosa\n",
      "[[   0.  104.]\n",
      " [   0. 1591.]]\n"
     ]
    }
   ],
   "source": [
    "matrizdeconfusion(RedMusic,x_test,Y_test)"
   ]
  },
  {
   "cell_type": "markdown",
   "id": "49654f3f-436c-4771-a3b8-b4381474b951",
   "metadata": {},
   "source": [
    "Veamos la etiqueta y prediccion de cada elemento."
   ]
  },
  {
   "cell_type": "code",
   "execution_count": 185,
   "id": "00a90dca-bf19-475f-b06a-a6ccfccbf42a",
   "metadata": {},
   "outputs": [
    {
     "data": {
      "application/vnd.jupyter.widget-view+json": {
       "model_id": "827f26ae34e94a65bb2a62750f8a1fcc",
       "version_major": 2,
       "version_minor": 0
      },
      "text/plain": [
       "interactive(children=(IntSlider(value=847, description='index', max=1694, min=1), Output()), _dom_classes=('wi…"
      ]
     },
     "metadata": {},
     "output_type": "display_data"
    }
   ],
   "source": [
    "@interact(index = (1, len(x_test) - 1))\n",
    "def muestrared(index):\n",
    "    salida=RedMusic(x_test[index])\n",
    "    _,prediccion=torch.max(salida,0)\n",
    "    salida[salida<_]=0\n",
    "    salida[prediccion]=1\n",
    "    print(\"Prediccion:\", clases[prediccion])\n",
    "    print(\"Etiqueta:\", clases[Y_train[index][0]])"
   ]
  },
  {
   "cell_type": "markdown",
   "id": "2d72a16f-7210-483c-a412-724c16dc234a",
   "metadata": {},
   "source": [
    "## Conclusiones"
   ]
  },
  {
   "cell_type": "markdown",
   "id": "4556bb75-c766-4025-90ae-5fc32bf72146",
   "metadata": {},
   "source": [
    "Despues de haber entrenado nuestra red y observar las matrices de confusion podemos ver que la red no reconoce a las canciones exitosas, esto puede ser porque hay muy pocos datos con esta etiqueta, por lo que necesitamos un mayor número de datos para clasificar de mejor manera. "
   ]
  },
  {
   "cell_type": "markdown",
   "id": "b8479b3b-fe80-4007-87f2-82ddd30010bf",
   "metadata": {},
   "source": [
    "Por otra parte podemos ver que clasifica de buena manera a  las poca exitosas y posiblemente exitosas ."
   ]
  },
  {
   "cell_type": "markdown",
   "id": "c86209e0-c61d-496c-a894-2b636fa75647",
   "metadata": {},
   "source": [
    "Veamos que pasa si introducimos datos de canciones actuales"
   ]
  },
  {
   "cell_type": "code",
   "execution_count": 219,
   "id": "354f13cb-fc03-41fb-9cbc-23f21d9fd9d8",
   "metadata": {},
   "outputs": [],
   "source": [
    "canciones=np.array([[\"Ella baila sola\",147.6,-5,95,3,2,143.6],\n",
    "                    [\"BZRP-Peso Pluma\",184.8,-5,130,3,6,176.8],\n",
    "                   [\"where she goes\",211.2,-4,105,4,11,201.1],\n",
    "                   [\"un x100to\",189,-4.5,88,2,13,178],\n",
    "                   [\"cupid\",152.4,-5.5,96,4,8,149.4],\n",
    "                   [\"wtf\",67.2,-6,131,4,0,64.2],\n",
    "                   [\"stupid song\",89.8,-5.5,158,4,1,84],\n",
    "                   [\"Hold the line\",213,-5,100,4,1,212],\n",
    "                   [\"Los angeles lindo y querido\",84.6,-5,126,4,3,98.6],\n",
    "                   [\"This boy\",129.6,-4,75,4,1,118.6]])"
   ]
  },
  {
   "cell_type": "code",
   "execution_count": 220,
   "id": "1ebb3d92-923d-4a27-ad36-511ce95175e2",
   "metadata": {},
   "outputs": [
    {
     "data": {
      "text/plain": [
       "array([[147.6,  -5. ,  95. ,   3. ,   2. , 143.6],\n",
       "       [184.8,  -5. , 130. ,   3. ,   6. , 176.8],\n",
       "       [211.2,  -4. , 105. ,   4. ,  11. , 201.1],\n",
       "       [189. ,  -4.5,  88. ,   2. ,  13. , 178. ],\n",
       "       [152.4,  -5.5,  96. ,   4. ,   8. , 149.4],\n",
       "       [ 67.2,  -6. , 131. ,   4. ,   0. ,  64.2],\n",
       "       [ 89.8,  -5.5, 158. ,   4. ,   1. ,  84. ],\n",
       "       [213. ,  -5. , 100. ,   4. ,   1. , 212. ],\n",
       "       [ 84.6,  -5. , 126. ,   4. ,   3. ,  98.6],\n",
       "       [129.6,  -4. ,  75. ,   4. ,   1. , 118.6]])"
      ]
     },
     "execution_count": 220,
     "metadata": {},
     "output_type": "execute_result"
    }
   ],
   "source": [
    "E_canciones=canciones[:,1:]\n",
    "E_canciones=E_canciones.astype(float)\n",
    "E_canciones"
   ]
  },
  {
   "cell_type": "code",
   "execution_count": 221,
   "id": "67ce6dc5-8649-4a08-8552-27c25b31155f",
   "metadata": {},
   "outputs": [
    {
     "name": "stdout",
     "output_type": "stream",
     "text": [
      "Prediccion: posiblemente exitosa\n",
      "Prediccion: posiblemente exitosa\n",
      "Prediccion: posiblemente exitosa\n",
      "Prediccion: posiblemente exitosa\n",
      "Prediccion: posiblemente exitosa\n",
      "Prediccion: poco exitosa\n",
      "Prediccion: poco exitosa\n",
      "Prediccion: posiblemente exitosa\n",
      "Prediccion: poco exitosa\n",
      "Prediccion: posiblemente exitosa\n"
     ]
    }
   ],
   "source": [
    "for i in E_canciones:\n",
    "    salida=RedMusic(i)\n",
    "    _,prediccion=torch.max(salida,0)\n",
    "    print(\"Prediccion:\", clases[prediccion])"
   ]
  },
  {
   "cell_type": "markdown",
   "id": "06b72be9-212f-4d60-944f-42abd3a5aa2d",
   "metadata": {},
   "source": [
    "Veamos que todas las canciones populares que introducimmos las clasifica como posiblemente exitosas mientras a las que a lás demás las clasifica como pocas exitosas por lo que podemos decir que la red se entreno correctamente."
   ]
  },
  {
   "cell_type": "markdown",
   "id": "54f01e3b-dd4b-4fd4-a925-8e8b9dbf907a",
   "metadata": {},
   "source": [
    "Haciendo un analisis más detallado de lo que esta haciendo la red nos dimos cuenta que lla red detecta como poco exitosas a las canciones que son muy cortas y además tienen un BPM muy alto es decir la cancion es rapida."
   ]
  }
 ],
 "metadata": {
  "kernelspec": {
   "display_name": "Python 3 (ipykernel)",
   "language": "python",
   "name": "python3"
  },
  "language_info": {
   "codemirror_mode": {
    "name": "ipython",
    "version": 3
   },
   "file_extension": ".py",
   "mimetype": "text/x-python",
   "name": "python",
   "nbconvert_exporter": "python",
   "pygments_lexer": "ipython3",
   "version": "3.9.13"
  }
 },
 "nbformat": 4,
 "nbformat_minor": 5
}
